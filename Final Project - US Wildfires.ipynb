{
 "cells": [
  {
   "cell_type": "code",
   "execution_count": 190,
   "metadata": {},
   "outputs": [],
   "source": [
    "import sqlite3\n",
    "import pandas as pd\n",
    "import matplotlib.pyplot as plt\n",
    "from sklearn.metrics import accuracy_score\n",
    "from sklearn import tree, preprocessing\n",
    "from sklearn.model_selection import train_test_split\n",
    "from sklearn.tree import DecisionTreeClassifier\n",
    "from sklearn.ensemble import RandomForestClassifier\n",
    "import numpy as np"
   ]
  },
  {
   "cell_type": "code",
   "execution_count": 142,
   "metadata": {},
   "outputs": [],
   "source": [
    "#connect to sqlite database\n",
    "cnx = sqlite3.connect('./188-million-us-wildfires/FPA_FOD_20170508.sqlite')"
   ]
  },
  {
   "cell_type": "code",
   "execution_count": 143,
   "metadata": {},
   "outputs": [
    {
     "name": "stdout",
     "output_type": "stream",
     "text": [
      "[('spatial_ref_sys',), ('spatialite_history',), ('sqlite_sequence',), ('geometry_columns',), ('spatial_ref_sys_aux',), ('views_geometry_columns',), ('virts_geometry_columns',), ('geometry_columns_statistics',), ('views_geometry_columns_statistics',), ('virts_geometry_columns_statistics',), ('geometry_columns_field_infos',), ('views_geometry_columns_field_infos',), ('virts_geometry_columns_field_infos',), ('geometry_columns_time',), ('geometry_columns_auth',), ('views_geometry_columns_auth',), ('virts_geometry_columns_auth',), ('sql_statements_log',), ('SpatialIndex',), ('ElementaryGeometries',), ('KNN',), ('Fires',), ('idx_Fires_Shape',), ('idx_Fires_Shape_node',), ('idx_Fires_Shape_rowid',), ('idx_Fires_Shape_parent',), ('NWCG_UnitIDActive_20170109',)]\n"
     ]
    }
   ],
   "source": [
    "cursor = cnx.cursor()\n",
    "cursor.execute('SELECT name FROM SQLITE_MASTER WHERE TYPE=\"table\"')\n",
    "print(cursor.fetchall())"
   ]
  },
  {
   "cell_type": "code",
   "execution_count": 144,
   "metadata": {},
   "outputs": [
    {
     "data": {
      "text/plain": [
       "Index(['OBJECTID', 'FOD_ID', 'FPA_ID', 'SOURCE_SYSTEM_TYPE', 'SOURCE_SYSTEM',\n",
       "       'NWCG_REPORTING_AGENCY', 'NWCG_REPORTING_UNIT_ID',\n",
       "       'NWCG_REPORTING_UNIT_NAME', 'SOURCE_REPORTING_UNIT',\n",
       "       'SOURCE_REPORTING_UNIT_NAME', 'LOCAL_FIRE_REPORT_ID',\n",
       "       'LOCAL_INCIDENT_ID', 'FIRE_CODE', 'FIRE_NAME',\n",
       "       'ICS_209_INCIDENT_NUMBER', 'ICS_209_NAME', 'MTBS_ID', 'MTBS_FIRE_NAME',\n",
       "       'COMPLEX_NAME', 'FIRE_YEAR', 'DISCOVERY_DATE', 'DISCOVERY_DOY',\n",
       "       'DISCOVERY_TIME', 'STAT_CAUSE_CODE', 'STAT_CAUSE_DESCR', 'CONT_DATE',\n",
       "       'CONT_DOY', 'CONT_TIME', 'FIRE_SIZE', 'FIRE_SIZE_CLASS', 'LATITUDE',\n",
       "       'LONGITUDE', 'OWNER_CODE', 'OWNER_DESCR', 'STATE', 'COUNTY',\n",
       "       'FIPS_CODE', 'FIPS_NAME', 'Shape'],\n",
       "      dtype='object')"
      ]
     },
     "execution_count": 144,
     "metadata": {},
     "output_type": "execute_result"
    }
   ],
   "source": [
    "#select the Fires table\n",
    "fires_table = pd.read_sql_query(\"SELECT * FROM Fires\", cnx)\n",
    "fires_table.columns"
   ]
  },
  {
   "cell_type": "code",
   "execution_count": 145,
   "metadata": {},
   "outputs": [
    {
     "data": {
      "text/plain": [
       "(1880465, 39)"
      ]
     },
     "execution_count": 145,
     "metadata": {},
     "output_type": "execute_result"
    }
   ],
   "source": [
    "fires_table.shape"
   ]
  },
  {
   "cell_type": "code",
   "execution_count": 6,
   "metadata": {},
   "outputs": [
    {
     "name": "stdout",
     "output_type": "stream",
     "text": [
      "   FIRE_YEAR  DISCOVERY_DATE  DISCOVERY_DOY STAT_CAUSE_DESCR  FIRE_SIZE  \\\n",
      "0       2005       2453403.5             33    Miscellaneous       0.10   \n",
      "1       2004       2453137.5            133        Lightning       0.25   \n",
      "2       2004       2453156.5            152   Debris Burning       0.10   \n",
      "3       2004       2453184.5            180        Lightning       0.10   \n",
      "4       2004       2453184.5            180        Lightning       0.10   \n",
      "5       2004       2453186.5            182        Lightning       0.10   \n",
      "6       2004       2453187.5            183        Lightning       0.10   \n",
      "7       2005       2453437.5             67   Debris Burning       0.80   \n",
      "8       2005       2453444.5             74   Debris Burning       1.00   \n",
      "9       2004       2453187.5            183        Lightning       0.10   \n",
      "\n",
      "  FIRE_SIZE_CLASS   LATITUDE   LONGITUDE STATE  CONT_DATE  \n",
      "0               A  40.036944 -121.005833    CA  2453403.5  \n",
      "1               A  38.933056 -120.404444    CA  2453137.5  \n",
      "2               A  38.984167 -120.735556    CA  2453156.5  \n",
      "3               A  38.559167 -119.913333    CA  2453189.5  \n",
      "4               A  38.559167 -119.933056    CA  2453189.5  \n",
      "5               A  38.635278 -120.103611    CA  2453187.5  \n",
      "6               A  38.688333 -120.153333    CA  2453188.5  \n",
      "7               B  40.968056 -122.433889    CA  2453437.5  \n",
      "8               B  41.233611 -122.283333    CA  2453444.5  \n",
      "9               A  38.548333 -120.149167    CA  2453188.5  \n"
     ]
    }
   ],
   "source": [
    "#selecting some potential columns for analysis\n",
    "df = pd.read_sql_query(\"SELECT FIRE_YEAR, DISCOVERY_DATE, DISCOVERY_DOY, STAT_CAUSE_DESCR, FIRE_SIZE, FIRE_SIZE_CLASS, LATITUDE, LONGITUDE, STATE, CONT_DATE FROM Fires\", cnx)\n",
    "print(df.head(10))"
   ]
  },
  {
   "cell_type": "code",
   "execution_count": 7,
   "metadata": {},
   "outputs": [],
   "source": [
    "df.fillna(0, inplace=True)"
   ]
  },
  {
   "cell_type": "code",
   "execution_count": 8,
   "metadata": {},
   "outputs": [
    {
     "data": {
      "text/plain": [
       "FIRE_YEAR           False\n",
       "DISCOVERY_DATE      False\n",
       "DISCOVERY_DOY       False\n",
       "STAT_CAUSE_DESCR    False\n",
       "FIRE_SIZE           False\n",
       "FIRE_SIZE_CLASS     False\n",
       "LATITUDE            False\n",
       "LONGITUDE           False\n",
       "STATE               False\n",
       "CONT_DATE           False\n",
       "dtype: bool"
      ]
     },
     "execution_count": 8,
     "metadata": {},
     "output_type": "execute_result"
    }
   ],
   "source": [
    "df.isnull().any()"
   ]
  },
  {
   "cell_type": "code",
   "execution_count": 9,
   "metadata": {},
   "outputs": [
    {
     "name": "stdout",
     "output_type": "stream",
     "text": [
      "   FIRE_YEAR  DISCOVERY_DATE  DISCOVERY_DOY STAT_CAUSE_DESCR  FIRE_SIZE  \\\n",
      "0       2005       2453403.5             33    Miscellaneous       0.10   \n",
      "1       2004       2453137.5            133        Lightning       0.25   \n",
      "2       2004       2453156.5            152   Debris Burning       0.10   \n",
      "3       2004       2453184.5            180        Lightning       0.10   \n",
      "4       2004       2453184.5            180        Lightning       0.10   \n",
      "5       2004       2453186.5            182        Lightning       0.10   \n",
      "6       2004       2453187.5            183        Lightning       0.10   \n",
      "7       2005       2453437.5             67   Debris Burning       0.80   \n",
      "8       2005       2453444.5             74   Debris Burning       1.00   \n",
      "9       2004       2453187.5            183        Lightning       0.10   \n",
      "\n",
      "  FIRE_SIZE_CLASS   LATITUDE   LONGITUDE STATE  CONT_DATE       DATE  \n",
      "0               A  40.036944 -121.005833    CA  2453403.5 2005-02-02  \n",
      "1               A  38.933056 -120.404444    CA  2453137.5 2004-05-12  \n",
      "2               A  38.984167 -120.735556    CA  2453156.5 2004-05-31  \n",
      "3               A  38.559167 -119.913333    CA  2453189.5 2004-06-28  \n",
      "4               A  38.559167 -119.933056    CA  2453189.5 2004-06-28  \n",
      "5               A  38.635278 -120.103611    CA  2453187.5 2004-06-30  \n",
      "6               A  38.688333 -120.153333    CA  2453188.5 2004-07-01  \n",
      "7               B  40.968056 -122.433889    CA  2453437.5 2005-03-08  \n",
      "8               B  41.233611 -122.283333    CA  2453444.5 2005-03-15  \n",
      "9               A  38.548333 -120.149167    CA  2453188.5 2004-07-01  \n"
     ]
    }
   ],
   "source": [
    "#change the discovery_date format to readable date format\n",
    "df['DATE'] = pd.to_datetime(df['DISCOVERY_DATE'] - pd.Timestamp(0).to_julian_date(), unit='D')\n",
    "print(df.head(10))"
   ]
  },
  {
   "cell_type": "code",
   "execution_count": 10,
   "metadata": {},
   "outputs": [
    {
     "name": "stdout",
     "output_type": "stream",
     "text": [
      "   FIRE_YEAR  DISCOVERY_DATE  DISCOVERY_DOY STAT_CAUSE_DESCR  FIRE_SIZE  \\\n",
      "0       2005       2453403.5             33    Miscellaneous       0.10   \n",
      "1       2004       2453137.5            133        Lightning       0.25   \n",
      "2       2004       2453156.5            152   Debris Burning       0.10   \n",
      "3       2004       2453184.5            180        Lightning       0.10   \n",
      "4       2004       2453184.5            180        Lightning       0.10   \n",
      "\n",
      "  FIRE_SIZE_CLASS   LATITUDE   LONGITUDE STATE  CONT_DATE       DATE  MONTH  \n",
      "0               A  40.036944 -121.005833    CA  2453403.5 2005-02-02      2  \n",
      "1               A  38.933056 -120.404444    CA  2453137.5 2004-05-12      5  \n",
      "2               A  38.984167 -120.735556    CA  2453156.5 2004-05-31      5  \n",
      "3               A  38.559167 -119.913333    CA  2453189.5 2004-06-28      6  \n",
      "4               A  38.559167 -119.933056    CA  2453189.5 2004-06-28      6  \n"
     ]
    }
   ],
   "source": [
    "df['MONTH'] = pd.DatetimeIndex(df['DATE']).month\n",
    "print(df.head())"
   ]
  },
  {
   "cell_type": "code",
   "execution_count": 11,
   "metadata": {},
   "outputs": [
    {
     "data": {
      "text/plain": [
       "FIRE_YEAR\n",
       "1992    67975\n",
       "1993    61989\n",
       "1994    75955\n",
       "1995    71472\n",
       "1996    75574\n",
       "dtype: int64"
      ]
     },
     "execution_count": 11,
     "metadata": {},
     "output_type": "execute_result"
    }
   ],
   "source": [
    "fire_year = df.groupby('FIRE_YEAR').size()\n",
    "fire_year[:5]"
   ]
  },
  {
   "cell_type": "code",
   "execution_count": 12,
   "metadata": {},
   "outputs": [
    {
     "data": {
      "text/plain": [
       "pandas.core.series.Series"
      ]
     },
     "execution_count": 12,
     "metadata": {},
     "output_type": "execute_result"
    }
   ],
   "source": [
    "type(fire_year)"
   ]
  },
  {
   "cell_type": "code",
   "execution_count": 146,
   "metadata": {},
   "outputs": [
    {
     "data": {
      "image/png": "[encoded data removed]",
      "text/plain": [
       "<Figure size 432x288 with 1 Axes>"
      ]
     },
     "metadata": {
      "needs_background": "light"
     },
     "output_type": "display_data"
    }
   ],
   "source": [
    "fire_year.plot(kind='bar', color='green')\n",
    "plt.ylabel('#Frequency of wildfires')\n",
    "plt.title('US Wildfires over time')\n",
    "plt.show()"
   ]
  },
  {
   "cell_type": "code",
   "execution_count": 14,
   "metadata": {},
   "outputs": [
    {
     "data": {
      "text/plain": [
       "FIRE_SIZE_CLASS\n",
       "A    666919\n",
       "B    939376\n",
       "C    220077\n",
       "D     28427\n",
       "E     14107\n",
       "dtype: int64"
      ]
     },
     "execution_count": 14,
     "metadata": {},
     "output_type": "execute_result"
    }
   ],
   "source": [
    "#Number of Wildfires by Fire_Size\n",
    "fire_size = df.groupby('FIRE_SIZE_CLASS').size()\n",
    "fire_size[:5]"
   ]
  },
  {
   "cell_type": "code",
   "execution_count": 15,
   "metadata": {},
   "outputs": [
    {
     "data": {
      "text/plain": [
       "Index(['A', 'B', 'C', 'D', 'E', 'F', 'G'], dtype='object', name='FIRE_SIZE_CLASS')"
      ]
     },
     "execution_count": 15,
     "metadata": {},
     "output_type": "execute_result"
    }
   ],
   "source": [
    "fire_size.index"
   ]
  },
  {
   "cell_type": "code",
   "execution_count": 16,
   "metadata": {},
   "outputs": [
    {
     "data": {
      "image/png": "[encoded data removed]",
      "text/plain": [
       "<Figure size 432x288 with 1 Axes>"
      ]
     },
     "metadata": {
      "needs_background": "light"
     },
     "output_type": "display_data"
    }
   ],
   "source": [
    "#The ranges of fire size are set as given in the dataset documentation\n",
    "fire_size_ranges = ['0-0.25', '0.26-9.9', '10.0-99.9', '100-299', '300-999', '1000-4999', '5000+']\n",
    "fire_size.plot(kind='bar', color='red')\n",
    "plt.xticks(np.arange(len(fire_size.index)), fire_size_ranges)\n",
    "plt.xlabel('Fire size in acres')\n",
    "plt.ylabel('Number of Fires')\n",
    "plt.title('Number of Wildfires by Fire Size')\n",
    "plt.grid(True)\n",
    "plt.show()"
   ]
  },
  {
   "cell_type": "code",
   "execution_count": 172,
   "metadata": {},
   "outputs": [
    {
     "data": {
      "image/png": "[encoded data removed]",
      "text/plain": [
       "<Figure size 432x288 with 1 Axes>"
      ]
     },
     "metadata": {
      "needs_background": "light"
     },
     "output_type": "display_data"
    }
   ],
   "source": [
    "df['STATE'].value_counts().head(n=20).plot(kind='bar', color='blue')\n",
    "plt.xlabel(\"States in US\")\n",
    "plt.ylabel(\"number of fires\")\n",
    "plt.title(\"States with most Wildfires\")\n",
    "plt.show()"
   ]
  },
  {
   "cell_type": "code",
   "execution_count": 151,
   "metadata": {},
   "outputs": [
    {
     "data": {
      "text/plain": [
       "Text(0.5, 1.0, 'Causes of Wildfires')"
      ]
     },
     "execution_count": 151,
     "metadata": {},
     "output_type": "execute_result"
    },
    {
     "data": {
      "image/png": "[encoded data removed]",
      "text/plain": [
       "<Figure size 432x288 with 1 Axes>"
      ]
     },
     "metadata": {
      "needs_background": "light"
     },
     "output_type": "display_data"
    }
   ],
   "source": [
    "df['STAT_CAUSE_DESCR'].value_counts().plot(kind='bar', color='orange')\n",
    "plt.xlabel(\"Causes of wildfires\")\n",
    "plt.ylabel(\"Number of fires\")\n",
    "plt.title(\"Causes of Wildfires\")"
   ]
  },
  {
   "cell_type": "code",
   "execution_count": 18,
   "metadata": {},
   "outputs": [],
   "source": [
    "#calculate burn time for each reason\n",
    "df['BURN_TIME'] = df['CONT_DATE'] - df['DISCOVERY_DATE']"
   ]
  },
  {
   "cell_type": "code",
   "execution_count": 90,
   "metadata": {},
   "outputs": [],
   "source": [
    "df['DAY_OF_WEEK'] = df['DATE'].dt.weekday_name\n",
    "df['DAY_OF_WEEK'] = le.fit_transform(df['DAY_OF_WEEK'])"
   ]
  },
  {
   "cell_type": "code",
   "execution_count": 19,
   "metadata": {},
   "outputs": [],
   "source": [
    "target = ['STAT_CAUSE_DESCR']"
   ]
  },
  {
   "cell_type": "code",
   "execution_count": 20,
   "metadata": {},
   "outputs": [],
   "source": [
    "features = ['FIRE_SIZE', 'DISCOVERY_DOY', 'LONGITUDE', 'LATITUDE', 'BURN_TIME', 'MONTH']"
   ]
  },
  {
   "cell_type": "code",
   "execution_count": 21,
   "metadata": {},
   "outputs": [],
   "source": [
    "X = df[features]"
   ]
  },
  {
   "cell_type": "code",
   "execution_count": 22,
   "metadata": {},
   "outputs": [],
   "source": [
    "y = df[target]"
   ]
  },
  {
   "cell_type": "code",
   "execution_count": 23,
   "metadata": {},
   "outputs": [
    {
     "data": {
      "text/plain": [
       "FIRE_SIZE          0.100000\n",
       "DISCOVERY_DOY    180.000000\n",
       "LONGITUDE       -119.913333\n",
       "LATITUDE          38.559167\n",
       "BURN_TIME          5.000000\n",
       "MONTH              6.000000\n",
       "Name: 3, dtype: float64"
      ]
     },
     "execution_count": 23,
     "metadata": {},
     "output_type": "execute_result"
    }
   ],
   "source": [
    "X.iloc[3]"
   ]
  },
  {
   "cell_type": "code",
   "execution_count": 24,
   "metadata": {},
   "outputs": [
    {
     "data": {
      "text/html": [
       "<div>\n",
       "<style scoped>\n",
       "    .dataframe tbody tr th:only-of-type {\n",
       "        vertical-align: middle;\n",
       "    }\n",
       "\n",
       "    .dataframe tbody tr th {\n",
       "        vertical-align: top;\n",
       "    }\n",
       "\n",
       "    .dataframe thead th {\n",
       "        text-align: right;\n",
       "    }\n",
       "</style>\n",
       "<table border=\"1\" class=\"dataframe\">\n",
       "  <thead>\n",
       "    <tr style=\"text-align: right;\">\n",
       "      <th></th>\n",
       "      <th>STAT_CAUSE_DESCR</th>\n",
       "    </tr>\n",
       "  </thead>\n",
       "  <tbody>\n",
       "    <tr>\n",
       "      <td>0</td>\n",
       "      <td>Miscellaneous</td>\n",
       "    </tr>\n",
       "    <tr>\n",
       "      <td>1</td>\n",
       "      <td>Lightning</td>\n",
       "    </tr>\n",
       "    <tr>\n",
       "      <td>2</td>\n",
       "      <td>Debris Burning</td>\n",
       "    </tr>\n",
       "    <tr>\n",
       "      <td>3</td>\n",
       "      <td>Lightning</td>\n",
       "    </tr>\n",
       "    <tr>\n",
       "      <td>4</td>\n",
       "      <td>Lightning</td>\n",
       "    </tr>\n",
       "    <tr>\n",
       "      <td>...</td>\n",
       "      <td>...</td>\n",
       "    </tr>\n",
       "    <tr>\n",
       "      <td>1880460</td>\n",
       "      <td>Missing/Undefined</td>\n",
       "    </tr>\n",
       "    <tr>\n",
       "      <td>1880461</td>\n",
       "      <td>Miscellaneous</td>\n",
       "    </tr>\n",
       "    <tr>\n",
       "      <td>1880462</td>\n",
       "      <td>Missing/Undefined</td>\n",
       "    </tr>\n",
       "    <tr>\n",
       "      <td>1880463</td>\n",
       "      <td>Missing/Undefined</td>\n",
       "    </tr>\n",
       "    <tr>\n",
       "      <td>1880464</td>\n",
       "      <td>Miscellaneous</td>\n",
       "    </tr>\n",
       "  </tbody>\n",
       "</table>\n",
       "<p>1880465 rows × 1 columns</p>\n",
       "</div>"
      ],
      "text/plain": [
       "          STAT_CAUSE_DESCR\n",
       "0            Miscellaneous\n",
       "1                Lightning\n",
       "2           Debris Burning\n",
       "3                Lightning\n",
       "4                Lightning\n",
       "...                    ...\n",
       "1880460  Missing/Undefined\n",
       "1880461      Miscellaneous\n",
       "1880462  Missing/Undefined\n",
       "1880463  Missing/Undefined\n",
       "1880464      Miscellaneous\n",
       "\n",
       "[1880465 rows x 1 columns]"
      ]
     },
     "execution_count": 24,
     "metadata": {},
     "output_type": "execute_result"
    }
   ],
   "source": [
    "y"
   ]
  },
  {
   "cell_type": "markdown",
   "metadata": {},
   "source": [
    "#### 1. Decision Tree Classifier"
   ]
  },
  {
   "cell_type": "code",
   "execution_count": 25,
   "metadata": {},
   "outputs": [],
   "source": [
    "X_train, X_test, y_train,y_test = train_test_split(X,y,test_size=0.33)"
   ]
  },
  {
   "cell_type": "code",
   "execution_count": 25,
   "metadata": {},
   "outputs": [
    {
     "data": {
      "text/plain": [
       "DecisionTreeClassifier(class_weight=None, criterion='gini', max_depth=None,\n",
       "                       max_features=None, max_leaf_nodes=20,\n",
       "                       min_impurity_decrease=0.0, min_impurity_split=None,\n",
       "                       min_samples_leaf=1, min_samples_split=2,\n",
       "                       min_weight_fraction_leaf=0.0, presort=False,\n",
       "                       random_state=0, splitter='best')"
      ]
     },
     "execution_count": 25,
     "metadata": {},
     "output_type": "execute_result"
    }
   ],
   "source": [
    "cause_classifier = DecisionTreeClassifier(max_leaf_nodes=20, random_state=0)\n",
    "cause_classifier.fit(X_train,y_train)"
   ]
  },
  {
   "cell_type": "code",
   "execution_count": 26,
   "metadata": {},
   "outputs": [],
   "source": [
    "predictions = cause_classifier.predict(X_test)"
   ]
  },
  {
   "cell_type": "code",
   "execution_count": 27,
   "metadata": {},
   "outputs": [
    {
     "data": {
      "text/plain": [
       "array(['Arson', 'Lightning', 'Miscellaneous', 'Debris Burning',\n",
       "       'Debris Burning', 'Arson', 'Arson', 'Lightning', 'Miscellaneous',\n",
       "       'Lightning'], dtype=object)"
      ]
     },
     "execution_count": 27,
     "metadata": {},
     "output_type": "execute_result"
    }
   ],
   "source": [
    "predictions[:10]"
   ]
  },
  {
   "cell_type": "code",
   "execution_count": 28,
   "metadata": {},
   "outputs": [
    {
     "data": {
      "text/plain": [
       "540725              Arson\n",
       "91365           Lightning\n",
       "268337           Children\n",
       "1741818     Equipment Use\n",
       "663992     Debris Burning\n",
       "1758892    Debris Burning\n",
       "1242232             Arson\n",
       "127066          Lightning\n",
       "1289816    Debris Burning\n",
       "1181554          Campfire\n",
       "Name: STAT_CAUSE_DESCR, dtype: object"
      ]
     },
     "execution_count": 28,
     "metadata": {},
     "output_type": "execute_result"
    }
   ],
   "source": [
    "y_test['STAT_CAUSE_DESCR'][:10]"
   ]
  },
  {
   "cell_type": "code",
   "execution_count": 29,
   "metadata": {},
   "outputs": [
    {
     "data": {
      "text/plain": [
       "0.4054522249473857"
      ]
     },
     "execution_count": 29,
     "metadata": {},
     "output_type": "execute_result"
    }
   ],
   "source": [
    "accuracy_score(y_true=y_test, y_pred=predictions)"
   ]
  },
  {
   "cell_type": "markdown",
   "metadata": {},
   "source": [
    "#### 2. Random Forest Classifier"
   ]
  },
  {
   "cell_type": "code",
   "execution_count": 30,
   "metadata": {},
   "outputs": [],
   "source": [
    "random_classifier = RandomForestClassifier(n_estimators=50)"
   ]
  },
  {
   "cell_type": "code",
   "execution_count": 31,
   "metadata": {},
   "outputs": [
    {
     "name": "stderr",
     "output_type": "stream",
     "text": [
      "C:\\Tech\\Anaconda3\\lib\\site-packages\\ipykernel_launcher.py:1: DataConversionWarning: A column-vector y was passed when a 1d array was expected. Please change the shape of y to (n_samples,), for example using ravel().\n",
      "  \"\"\"Entry point for launching an IPython kernel.\n"
     ]
    },
    {
     "data": {
      "text/plain": [
       "RandomForestClassifier(bootstrap=True, class_weight=None, criterion='gini',\n",
       "                       max_depth=None, max_features='auto', max_leaf_nodes=None,\n",
       "                       min_impurity_decrease=0.0, min_impurity_split=None,\n",
       "                       min_samples_leaf=1, min_samples_split=2,\n",
       "                       min_weight_fraction_leaf=0.0, n_estimators=50,\n",
       "                       n_jobs=None, oob_score=False, random_state=None,\n",
       "                       verbose=0, warm_start=False)"
      ]
     },
     "execution_count": 31,
     "metadata": {},
     "output_type": "execute_result"
    }
   ],
   "source": [
    "random_classifier.fit(X_train, y_train)"
   ]
  },
  {
   "cell_type": "code",
   "execution_count": 32,
   "metadata": {},
   "outputs": [],
   "source": [
    "pred = random_classifier.predict(X_test)"
   ]
  },
  {
   "cell_type": "code",
   "execution_count": 33,
   "metadata": {},
   "outputs": [
    {
     "data": {
      "text/plain": [
       "0.556678387376441"
      ]
     },
     "execution_count": 33,
     "metadata": {},
     "output_type": "execute_result"
    }
   ],
   "source": [
    "accuracy_score(y_true=y_test, y_pred=pred)"
   ]
  },
  {
   "cell_type": "markdown",
   "metadata": {},
   "source": [
    "Try with some attributes for a particular state and a cause"
   ]
  },
  {
   "cell_type": "code",
   "execution_count": 153,
   "metadata": {},
   "outputs": [],
   "source": [
    "#pick a state and cause to predict the features of wildfire\n",
    "df_GA = df[df['STATE'] == 'GA']"
   ]
  },
  {
   "cell_type": "code",
   "execution_count": 154,
   "metadata": {},
   "outputs": [
    {
     "data": {
      "image/png": "[encoded data removed]",
      "text/plain": [
       "<Figure size 432x288 with 1 Axes>"
      ]
     },
     "metadata": {
      "needs_background": "light"
     },
     "output_type": "display_data"
    }
   ],
   "source": [
    "df_GA['STAT_CAUSE_DESCR'].value_counts().plot(kind='bar', color='magenta', title = 'Causes of wildfires in GA')\n",
    "plt.xlabel(\"Cause\")\n",
    "plt.ylabel(\"#frequency\")\n",
    "plt.show()"
   ]
  },
  {
   "cell_type": "code",
   "execution_count": 158,
   "metadata": {},
   "outputs": [
    {
     "name": "stdout",
     "output_type": "stream",
     "text": [
      "      FIRE_YEAR  DISCOVERY_DATE  DISCOVERY_DOY STAT_CAUSE_DESCR  FIRE_SIZE  \\\n",
      "4447       2005       2453678.5            308            Arson        0.1   \n",
      "4451       2005       2453678.5            308            Arson        0.5   \n",
      "4455       2005       2453686.5            316   Debris Burning        4.0   \n",
      "4463       2005       2453677.5            307   Debris Burning        3.0   \n",
      "4777       2005       2453441.5             71   Debris Burning        2.3   \n",
      "\n",
      "     FIRE_SIZE_CLASS   LATITUDE  LONGITUDE STATE  CONT_DATE       DATE  MONTH  \\\n",
      "4447               A  34.895556 -84.675833    GA  2453678.5 2005-11-04     11   \n",
      "4451               B  34.894444 -84.666944    GA  2453678.5 2005-11-04     11   \n",
      "4455               B  34.597222 -85.020833    GA  2453686.5 2005-11-12     11   \n",
      "4463               B  34.745556 -85.044722    GA  2453677.5 2005-11-03     11   \n",
      "4777               B  34.871944 -83.934167    GA  2453441.5 2005-03-12      3   \n",
      "\n",
      "      BURN_TIME  DAY_OF_WEEK  DEBRIS_BURNING  \n",
      "4447        0.0            0               0  \n",
      "4451        0.0            0               0  \n",
      "4455        0.0            2               1  \n",
      "4463        0.0            4               1  \n",
      "4777        0.0            2               1  \n"
     ]
    },
    {
     "name": "stderr",
     "output_type": "stream",
     "text": [
      "C:\\Tech\\Anaconda3\\lib\\site-packages\\ipykernel_launcher.py:1: SettingWithCopyWarning: \n",
      "A value is trying to be set on a copy of a slice from a DataFrame.\n",
      "Try using .loc[row_indexer,col_indexer] = value instead\n",
      "\n",
      "See the caveats in the documentation: http://pandas.pydata.org/pandas-docs/stable/user_guide/indexing.html#returning-a-view-versus-a-copy\n",
      "  \"\"\"Entry point for launching an IPython kernel.\n"
     ]
    }
   ],
   "source": [
    "df_GA['DEBRIS_BURNING'] = (df_GA['STAT_CAUSE_DESCR'] == 'Debris Burning')*1\n",
    "print(df_GA.head())"
   ]
  },
  {
   "cell_type": "code",
   "execution_count": 159,
   "metadata": {},
   "outputs": [
    {
     "name": "stderr",
     "output_type": "stream",
     "text": [
      "C:\\Tech\\Anaconda3\\lib\\site-packages\\ipykernel_launcher.py:2: SettingWithCopyWarning: \n",
      "A value is trying to be set on a copy of a slice from a DataFrame.\n",
      "Try using .loc[row_indexer,col_indexer] = value instead\n",
      "\n",
      "See the caveats in the documentation: http://pandas.pydata.org/pandas-docs/stable/user_guide/indexing.html#returning-a-view-versus-a-copy\n",
      "  \n"
     ]
    }
   ],
   "source": [
    "le = preprocessing.LabelEncoder()\n",
    "df_GA['DAY_OF_WEEK'] = le.fit_transform(df_GA['DAY_OF_WEEK'])"
   ]
  },
  {
   "cell_type": "code",
   "execution_count": 160,
   "metadata": {},
   "outputs": [],
   "source": [
    "df_GA = df_GA.drop('DATE',axis=1)\n",
    "df_GA = df_GA.drop('STATE',axis=1)\n",
    "df_GA = df_GA.drop('STAT_CAUSE_DESCR',axis=1)\n",
    "df_GA = df_GA.drop('FIRE_SIZE',axis=1)\n",
    "df_GA = df_GA.dropna()"
   ]
  },
  {
   "cell_type": "code",
   "execution_count": 161,
   "metadata": {},
   "outputs": [],
   "source": [
    "df_GA = df_GA.drop('FIRE_SIZE_CLASS', axis=1)"
   ]
  },
  {
   "cell_type": "code",
   "execution_count": 162,
   "metadata": {},
   "outputs": [],
   "source": [
    "df_GA = df_GA.drop('FIRE_YEAR', axis=1)"
   ]
  },
  {
   "cell_type": "code",
   "execution_count": 163,
   "metadata": {},
   "outputs": [],
   "source": [
    "debris_features = ['FIRE_SIZE', 'LATITUDE', 'LONGITUDE', 'MONTH', 'DISCOVERY_DATE', 'DAY_OF_WEEK']"
   ]
  },
  {
   "cell_type": "code",
   "execution_count": 164,
   "metadata": {},
   "outputs": [],
   "source": [
    "target = ['DEBRIS_BURNING']"
   ]
  },
  {
   "cell_type": "code",
   "execution_count": 165,
   "metadata": {},
   "outputs": [],
   "source": [
    "X1 = df_GA.drop(['DEBRIS_BURNING'], axis=1).values"
   ]
  },
  {
   "cell_type": "code",
   "execution_count": 166,
   "metadata": {},
   "outputs": [
    {
     "data": {
      "text/plain": [
       "array([[ 2.45367850e+06,  3.08000000e+02,  3.48955556e+01,\n",
       "        -8.46758333e+01,  2.45367850e+06,  1.10000000e+01,\n",
       "         0.00000000e+00,  0.00000000e+00],\n",
       "       [ 2.45367850e+06,  3.08000000e+02,  3.48944444e+01,\n",
       "        -8.46669444e+01,  2.45367850e+06,  1.10000000e+01,\n",
       "         0.00000000e+00,  0.00000000e+00],\n",
       "       [ 2.45368650e+06,  3.16000000e+02,  3.45972222e+01,\n",
       "        -8.50208333e+01,  2.45368650e+06,  1.10000000e+01,\n",
       "         0.00000000e+00,  2.00000000e+00],\n",
       "       [ 2.45367750e+06,  3.07000000e+02,  3.47455556e+01,\n",
       "        -8.50447222e+01,  2.45367750e+06,  1.10000000e+01,\n",
       "         0.00000000e+00,  4.00000000e+00],\n",
       "       [ 2.45344150e+06,  7.10000000e+01,  3.48719444e+01,\n",
       "        -8.39341667e+01,  2.45344150e+06,  3.00000000e+00,\n",
       "         0.00000000e+00,  2.00000000e+00]])"
      ]
     },
     "execution_count": 166,
     "metadata": {},
     "output_type": "execute_result"
    }
   ],
   "source": [
    "X1[:5]"
   ]
  },
  {
   "cell_type": "code",
   "execution_count": 167,
   "metadata": {},
   "outputs": [],
   "source": [
    "y1 = df_GA['DEBRIS_BURNING'].values"
   ]
  },
  {
   "cell_type": "code",
   "execution_count": 168,
   "metadata": {},
   "outputs": [],
   "source": [
    "X1_train, X1_test, y1_train,y1_test = train_test_split(X1,y1,test_size=0.33, random_state=0)"
   ]
  },
  {
   "cell_type": "code",
   "execution_count": 169,
   "metadata": {},
   "outputs": [],
   "source": [
    "decision_classifier = RandomForestClassifier(n_estimators=200)"
   ]
  },
  {
   "cell_type": "code",
   "execution_count": 170,
   "metadata": {},
   "outputs": [],
   "source": [
    "clf = decision_classifier.fit(X1_train, y1_train)"
   ]
  },
  {
   "cell_type": "code",
   "execution_count": 171,
   "metadata": {},
   "outputs": [
    {
     "name": "stdout",
     "output_type": "stream",
     "text": [
      "0.6587471064295584\n"
     ]
    }
   ],
   "source": [
    "print(clf.score(X1_test, y1_test))"
   ]
  }
 ],
 "metadata": {
  "kernelspec": {
   "display_name": "Python 3",
   "language": "python",
   "name": "python3"
  },
  "language_info": {
   "codemirror_mode": {
    "name": "ipython",
    "version": 3
   },
   "file_extension": ".py",
   "mimetype": "text/x-python",
   "name": "python",
   "nbconvert_exporter": "python",
   "pygments_lexer": "ipython3",
   "version": "3.7.4"
  }
 },
 "nbformat": 4,
 "nbformat_minor": 2
}
